{
 "cells": [
  {
   "cell_type": "markdown",
   "id": "dcc66687",
   "metadata": {},
   "source": [
    "# Data Prep Insights"
   ]
  },
  {
   "cell_type": "code",
   "execution_count": 1,
   "id": "7eea5443",
   "metadata": {},
   "outputs": [],
   "source": [
    "import pandas as pd"
   ]
  },
  {
   "cell_type": "code",
   "execution_count": 3,
   "id": "2c6c5810",
   "metadata": {},
   "outputs": [
    {
     "data": {
      "text/html": [
       "<div>\n",
       "<style scoped>\n",
       "    .dataframe tbody tr th:only-of-type {\n",
       "        vertical-align: middle;\n",
       "    }\n",
       "\n",
       "    .dataframe tbody tr th {\n",
       "        vertical-align: top;\n",
       "    }\n",
       "\n",
       "    .dataframe thead th {\n",
       "        text-align: right;\n",
       "    }\n",
       "</style>\n",
       "<table border=\"1\" class=\"dataframe\">\n",
       "  <thead>\n",
       "    <tr style=\"text-align: right;\">\n",
       "      <th></th>\n",
       "      <th>s_no</th>\n",
       "      <th>url</th>\n",
       "      <th>level</th>\n",
       "      <th>abp</th>\n",
       "      <th>lbp</th>\n",
       "      <th>aap</th>\n",
       "      <th>lap</th>\n",
       "      <th>include</th>\n",
       "      <th>polarity</th>\n",
       "    </tr>\n",
       "  </thead>\n",
       "  <tbody>\n",
       "    <tr>\n",
       "      <th>0</th>\n",
       "      <td>1</td>\n",
       "      <td>https://www2.ed.gov/policy/rights/guid/ocr/sex...</td>\n",
       "      <td>federal</td>\n",
       "      <td>110</td>\n",
       "      <td>5743</td>\n",
       "      <td>310</td>\n",
       "      <td>312</td>\n",
       "      <td>1</td>\n",
       "      <td>neutral</td>\n",
       "    </tr>\n",
       "    <tr>\n",
       "      <th>1</th>\n",
       "      <td>2</td>\n",
       "      <td>https://www2.ed.gov/about/offices/list/ocr/doc...</td>\n",
       "      <td>federal</td>\n",
       "      <td>50</td>\n",
       "      <td>1098</td>\n",
       "      <td>200</td>\n",
       "      <td>209</td>\n",
       "      <td>1</td>\n",
       "      <td>neutral</td>\n",
       "    </tr>\n",
       "    <tr>\n",
       "      <th>2</th>\n",
       "      <td>3</td>\n",
       "      <td>https://www.justice.gov/crt/title-ix#1.%C2%A0%...</td>\n",
       "      <td>federal</td>\n",
       "      <td>200</td>\n",
       "      <td>2672</td>\n",
       "      <td>530</td>\n",
       "      <td>549</td>\n",
       "      <td>1</td>\n",
       "      <td>neutral</td>\n",
       "    </tr>\n",
       "    <tr>\n",
       "      <th>3</th>\n",
       "      <td>4</td>\n",
       "      <td>https://www.hhs.gov/civil-rights/for-individua...</td>\n",
       "      <td>federal</td>\n",
       "      <td>110</td>\n",
       "      <td>7479</td>\n",
       "      <td>630</td>\n",
       "      <td>448</td>\n",
       "      <td>1</td>\n",
       "      <td>neutral</td>\n",
       "    </tr>\n",
       "    <tr>\n",
       "      <th>4</th>\n",
       "      <td>5</td>\n",
       "      <td>https://www2.ed.gov/about/offices/list/ocr/sex...</td>\n",
       "      <td>federal</td>\n",
       "      <td>110</td>\n",
       "      <td>6050</td>\n",
       "      <td>290</td>\n",
       "      <td>351</td>\n",
       "      <td>1</td>\n",
       "      <td>neutral</td>\n",
       "    </tr>\n",
       "  </tbody>\n",
       "</table>\n",
       "</div>"
      ],
      "text/plain": [
       "   s_no                                                url    level  abp  \\\n",
       "0     1  https://www2.ed.gov/policy/rights/guid/ocr/sex...  federal  110   \n",
       "1     2  https://www2.ed.gov/about/offices/list/ocr/doc...  federal   50   \n",
       "2     3  https://www.justice.gov/crt/title-ix#1.%C2%A0%...  federal  200   \n",
       "3     4  https://www.hhs.gov/civil-rights/for-individua...  federal  110   \n",
       "4     5  https://www2.ed.gov/about/offices/list/ocr/sex...  federal  110   \n",
       "\n",
       "    lbp  aap  lap  include polarity  \n",
       "0  5743  310  312        1  neutral  \n",
       "1  1098  200  209        1  neutral  \n",
       "2  2672  530  549        1  neutral  \n",
       "3  7479  630  448        1  neutral  \n",
       "4  6050  290  351        1  neutral  "
      ]
     },
     "execution_count": 3,
     "metadata": {},
     "output_type": "execute_result"
    }
   ],
   "source": [
    "df = pd.read_csv('data.csv')\n",
    "df.head()"
   ]
  },
  {
   "cell_type": "code",
   "execution_count": 11,
   "id": "c67d338a",
   "metadata": {},
   "outputs": [
    {
     "data": {
      "text/plain": [
       "level       polarity\n",
       "bc          red          4\n",
       "calstate    blue         4\n",
       "federal     neutral      7\n",
       "harvard     blue         6\n",
       "kstate      red          4\n",
       "ksu         red          7\n",
       "mass        blue         2\n",
       "mit         blue        10\n",
       "my          blue         3\n",
       "nystate     blue         4\n",
       "scstate     red          5\n",
       "texasstate  red          3\n",
       "ucb         blue         4\n",
       "ucr         blue         9\n",
       "uk          red          5\n",
       "umb         blue         6\n",
       "umbc        blue         2\n",
       "umd         blue         4\n",
       "usc         red          7\n",
       "utahstate   red          3\n",
       "utaustin    red          8\n",
       "uutah       red          8\n",
       "Name: s_no, dtype: int64"
      ]
     },
     "execution_count": 11,
     "metadata": {},
     "output_type": "execute_result"
    }
   ],
   "source": [
    "temp = df.groupby(['level', 'polarity'], sort=True).count()['s_no']\n",
    "temp"
   ]
  },
  {
   "cell_type": "code",
   "execution_count": null,
   "id": "3006ce1d",
   "metadata": {},
   "outputs": [],
   "source": []
  }
 ],
 "metadata": {
  "kernelspec": {
   "display_name": "Python 3 (ipykernel)",
   "language": "python",
   "name": "python3"
  },
  "language_info": {
   "codemirror_mode": {
    "name": "ipython",
    "version": 3
   },
   "file_extension": ".py",
   "mimetype": "text/x-python",
   "name": "python",
   "nbconvert_exporter": "python",
   "pygments_lexer": "ipython3",
   "version": "3.9.12"
  }
 },
 "nbformat": 4,
 "nbformat_minor": 5
}
